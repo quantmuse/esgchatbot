{
 "cells": [
  {
   "cell_type": "markdown",
   "id": "fe5eca80",
   "metadata": {},
   "source": [
    "## Document Loading"
   ]
  },
  {
   "cell_type": "code",
   "execution_count": 1,
   "id": "33f8b444",
   "metadata": {},
   "outputs": [],
   "source": [
    "import os \n",
    "import openai\n",
    "import sys\n",
    "sys.path.append('../..')\n",
    "\n",
    "from dotenv import load_dotenv, find_dotenv\n",
    "_ = load_dotenv(find_dotenv())\n",
    "\n",
    "openai.api_key = os.environ['OPENAI_API_KEY']"
   ]
  },
  {
   "cell_type": "code",
   "execution_count": 2,
   "id": "36fdaf1b",
   "metadata": {},
   "outputs": [],
   "source": [
    "from langchain.document_loaders import PyPDFLoader"
   ]
  },
  {
   "cell_type": "code",
   "execution_count": 3,
   "id": "fd538a7b",
   "metadata": {},
   "outputs": [],
   "source": [
    "loader = PyPDFLoader(\"MS_Q1_fund_flows.pdf\")"
   ]
  },
  {
   "cell_type": "code",
   "execution_count": 4,
   "id": "eabc3bcf",
   "metadata": {},
   "outputs": [],
   "source": [
    "pages = loader.load()"
   ]
  },
  {
   "cell_type": "code",
   "execution_count": 5,
   "id": "3992b880",
   "metadata": {},
   "outputs": [
    {
     "data": {
      "text/plain": [
       "35"
      ]
     },
     "execution_count": 5,
     "metadata": {},
     "output_type": "execute_result"
    }
   ],
   "source": [
    "len(pages)"
   ]
  },
  {
   "cell_type": "code",
   "execution_count": 6,
   "id": "5b84e95a",
   "metadata": {},
   "outputs": [
    {
     "data": {
      "text/plain": [
       "{'source': 'MS_Q1_fund_flows.pdf', 'page': 0}"
      ]
     },
     "execution_count": 6,
     "metadata": {},
     "output_type": "execute_result"
    }
   ],
   "source": [
    "pages[0].metadata"
   ]
  },
  {
   "cell_type": "markdown",
   "id": "97f584ed",
   "metadata": {},
   "source": [
    "## Document Splitting"
   ]
  },
  {
   "cell_type": "markdown",
   "id": "0763f915",
   "metadata": {},
   "source": [
    "Recursive Character Text Splitter is recommended"
   ]
  },
  {
   "cell_type": "code",
   "execution_count": 7,
   "id": "394af695",
   "metadata": {},
   "outputs": [],
   "source": [
    "from langchain.text_splitter import RecursiveCharacterTextSplitter\n",
    "text_splitter = RecursiveCharacterTextSplitter(\n",
    "    chunk_size=1500,\n",
    "    chunk_overlap=150\n",
    ")"
   ]
  },
  {
   "cell_type": "code",
   "execution_count": 8,
   "id": "4b20c5ba",
   "metadata": {},
   "outputs": [],
   "source": [
    "docs = text_splitter.split_documents(pages)"
   ]
  },
  {
   "cell_type": "code",
   "execution_count": 9,
   "id": "e4a4911a",
   "metadata": {},
   "outputs": [
    {
     "data": {
      "text/plain": [
       "64"
      ]
     },
     "execution_count": 9,
     "metadata": {},
     "output_type": "execute_result"
    }
   ],
   "source": [
    "len(docs)"
   ]
  },
  {
   "cell_type": "code",
   "execution_count": 10,
   "id": "c80afb52",
   "metadata": {},
   "outputs": [
    {
     "data": {
      "text/plain": [
       "Document(page_content='? \\n \\n \\n \\n Global  Sustainable  Fund  Flows:  Q1 2023 in Review   \\nA slow start to the y ear, with lower inflows  and product development , \\nbut assets  climb  to USD 2. 7 trillion.  \\nKey Takeaways   \\n× Global sustainable funds attracted USD 29 billion of net new money in the first quarter of 2023, down \\nfrom  nearly  USD 38 billion  in the previous  quarter.  \\n× Inflows were lower in most regions  as macroeconomic pressures, including rising interest rates , \\ninflation , and a looming recession, continue d to weigh  on investor sentiment.  Sustainable funds in \\nthe U nited States  experienced their third quarter of outflows in a year.  \\n× Despite lower inflows  but helped by higher valuations , global sustainable fund assets continued their \\nrecovery to hit USD 2.7 4 trillion at the end of March.   \\n× Product development cooled down . Europe sa w a significant reduction of new sustainable fund \\nlaunche s, amid regulatory uncertainty  and fears of greenwashing accusations , while  the rest of the \\nworld kept their momentum.  \\n \\n \\nThe Global Sustainable  Fund Universe  \\nThe global sustainable fund universe encompasses open -end funds and exchange -traded funds that , by \\nprospectus or other regulatory filings , claim to focus on sustainability; impact; or environmental, social, \\nand governance factors1. (See the Appendix for more details on how we define the global sustainable \\nfund universe.)', metadata={'source': 'MS_Q1_fund_flows.pdf', 'page': 0})"
      ]
     },
     "execution_count": 10,
     "metadata": {},
     "output_type": "execute_result"
    }
   ],
   "source": [
    "docs[0]"
   ]
  },
  {
   "cell_type": "markdown",
   "id": "7f166904",
   "metadata": {},
   "source": [
    "## Vector Stores and Embeddings"
   ]
  },
  {
   "cell_type": "markdown",
   "id": "1476cab6",
   "metadata": {},
   "source": [
    "### Embeddings"
   ]
  },
  {
   "cell_type": "code",
   "execution_count": 11,
   "id": "e4e54409",
   "metadata": {},
   "outputs": [],
   "source": [
    "from langchain.embeddings.openai import OpenAIEmbeddings\n",
    "embedding = OpenAIEmbeddings()"
   ]
  },
  {
   "cell_type": "markdown",
   "id": "7902c273",
   "metadata": {},
   "source": [
    "### Vector Stores"
   ]
  },
  {
   "cell_type": "code",
   "execution_count": 12,
   "id": "dde751fb",
   "metadata": {},
   "outputs": [],
   "source": [
    "from langchain.vectorstores import Chroma"
   ]
  },
  {
   "cell_type": "code",
   "execution_count": 13,
   "id": "31ecb461",
   "metadata": {},
   "outputs": [],
   "source": [
    "persist_directory = 'chroma/'"
   ]
  },
  {
   "cell_type": "code",
   "execution_count": 14,
   "id": "ea46fe52",
   "metadata": {},
   "outputs": [],
   "source": [
    "vectordb = Chroma.from_documents(\n",
    "    documents=docs,\n",
    "    embedding=embedding,\n",
    "    persist_directory=persist_directory\n",
    ")"
   ]
  },
  {
   "cell_type": "markdown",
   "id": "e8acf297",
   "metadata": {},
   "source": [
    "## Similarity Search versus Maximum Marginal Relevance (MMR) Search"
   ]
  },
  {
   "cell_type": "code",
   "execution_count": 15,
   "id": "6fc053b6",
   "metadata": {},
   "outputs": [],
   "source": [
    "question = \"Where do we see the biggest ESG fund inflow?\""
   ]
  },
  {
   "cell_type": "code",
   "execution_count": 16,
   "id": "e3e7d801",
   "metadata": {},
   "outputs": [],
   "source": [
    "docs = vectordb.similarity_search(question, k =3) # top 3 answers"
   ]
  },
  {
   "cell_type": "code",
   "execution_count": 24,
   "id": "875334b1",
   "metadata": {},
   "outputs": [
    {
     "data": {
      "text/plain": [
       "\"Page  8 of 35 \\n \\n    \\n \\n    \\n \\n    \\n \\n    \\n \\n    \\n \\n    \\n \\n    Global  Sustainable  Fund  Flows —Q1 2023 in Review  | See Important  Disclosures.  \\n \\n      \\n \\n      \\n \\n      \\n \\n      \\n \\n      \\n \\n      \\n \\n      addition to sectoral exclusion s, the fund  screen s out ESG laggard s based on Swisscanto's proprietary \\nrating  and aims for a 20% lower carbon dioxide equivalent intensity score than  the parent benchmark .  \\n \\nThe second- biggest money -gather er last quarter was BlackRock ACS World ESG Insights Equity Fund , \\nwhich combines both exclusionary screens and a tilt toward companies better aligned with the longer -\\nterm sustainable, transformative change.  The fund seeks to have 50% lower exposure to carbon \\nemission intensity a nd potential emissions from fossil fuel reserves relative to its reference benchmark .  \\n \\nExhibit  8a Top 10 Sustainable  Fund  Flows  in First-Quarter  2023 \\n \\n  \\nSource:  Morningstar  Direct,  Manager  Research.  Data as of March 2023 . \\n In the table below, active and passive funds were also equally represented  among  the worst -selling \\nfund s. Royal London US Equity Tilt Fund  registered a USD 8 .1 billion outflow in the first quarter  due to \\na single client moving its  assets into a tax -transparent version of the same strategy . The same operation  \\nwas implemented in  the Royal London Japan  Equity Tilt Fund , thus explaining the USD 1  billion\""
      ]
     },
     "execution_count": 24,
     "metadata": {},
     "output_type": "execute_result"
    }
   ],
   "source": [
    "docs[1].page_content"
   ]
  },
  {
   "cell_type": "code",
   "execution_count": 18,
   "id": "ab3d65cd",
   "metadata": {},
   "outputs": [],
   "source": [
    "docs_mmr = vectordb.max_marginal_relevance_search(question, k =3)"
   ]
  },
  {
   "cell_type": "code",
   "execution_count": 22,
   "id": "6c0c72dc",
   "metadata": {},
   "outputs": [
    {
     "data": {
      "text/plain": [
       "'and iShares ESG USD Corporate Bond ETF SUSC —led the way, netting USD 420 million and USD 159 \\nmillion, respectively. Meanwhile, sustainable equity funds shed USD 5.4 billion during the quarter, their \\nthird quarter of outflows in the past year.  Here, too, iShares ESG Aware MSCI USA ETF drove the overall \\nnarrative.  \\n  Fund NameNet Flows \\n(USD Million)\\niShares ESG Aware MSCI EM ETF 477\\nBlackRock Sustainable Advantage Large Cap Core Fund 475\\nGMO Resource Transition Fund 460\\niShares ESG U.S. Aggregate Bond ETF 419\\nCalvert Equity Fund 419\\nBrown Advisory Sustainable Growth Fund 306\\nVanguard FTSE Social Index Fund 240\\nDimensional US Sustainability Core 1 ETF 209\\niShares ESG USD Corporate Bond ETF 159\\nVanguard ESG International Stock ETF 157'"
      ]
     },
     "execution_count": 22,
     "metadata": {},
     "output_type": "execute_result"
    }
   ],
   "source": [
    "docs_mmr[1].page_content"
   ]
  },
  {
   "cell_type": "code",
   "execution_count": 23,
   "id": "3e97ed15",
   "metadata": {},
   "outputs": [
    {
     "name": "stdout",
     "output_type": "stream",
     "text": [
      "64\n"
     ]
    }
   ],
   "source": [
    "print(vectordb._collection.count())"
   ]
  },
  {
   "cell_type": "markdown",
   "id": "876869f9",
   "metadata": {},
   "source": [
    "## Question Answering"
   ]
  },
  {
   "cell_type": "code",
   "execution_count": 25,
   "id": "a2c9b3a4",
   "metadata": {},
   "outputs": [],
   "source": [
    "# at this stage we add an LLM to enable the chatting feature to provide a response to our question\n",
    "llm_name = 'gpt-3.5-turbo-0301'"
   ]
  },
  {
   "cell_type": "code",
   "execution_count": 26,
   "id": "66bceb04",
   "metadata": {},
   "outputs": [],
   "source": [
    "from langchain.chat_models import ChatOpenAI\n",
    "llm = ChatOpenAI(model_name = llm_name, temperature = 0) #factual response, not too creative"
   ]
  },
  {
   "cell_type": "markdown",
   "id": "e1d0c90a",
   "metadata": {},
   "source": [
    "### RetrievalQA chain"
   ]
  },
  {
   "cell_type": "code",
   "execution_count": 27,
   "id": "81bbb68a",
   "metadata": {},
   "outputs": [],
   "source": [
    "from langchain.chains import RetrievalQA"
   ]
  },
  {
   "cell_type": "code",
   "execution_count": 28,
   "id": "143b4cc5",
   "metadata": {},
   "outputs": [],
   "source": [
    "qa_chain = RetrievalQA.from_chain_type(\n",
    "    llm,\n",
    "    retriever=vectordb.as_retriever()\n",
    ")"
   ]
  },
  {
   "cell_type": "code",
   "execution_count": 29,
   "id": "36350ad0",
   "metadata": {},
   "outputs": [],
   "source": [
    "result = qa_chain({\"query\": question})"
   ]
  },
  {
   "cell_type": "code",
   "execution_count": 30,
   "id": "306633d8",
   "metadata": {},
   "outputs": [
    {
     "data": {
      "text/plain": [
       "'According to Exhibit 29, Taiwan experienced the largest net inflows at USD 710 million in the first quarter of 2023 for Asia ex-Japan Sustainable Fund Flows. However, if we look at Exhibit 8a, iShares ESG Aware MSCI EM ETF and BlackRock Sustainable Advantage Large Cap Core Fund were the top two funds in terms of net flows, both receiving USD 477 million and USD 475 million, respectively.'"
      ]
     },
     "execution_count": 30,
     "metadata": {},
     "output_type": "execute_result"
    }
   ],
   "source": [
    "result[\"result\"]"
   ]
  },
  {
   "cell_type": "markdown",
   "id": "8b0e97cd",
   "metadata": {},
   "source": [
    "### Adding Prompt"
   ]
  },
  {
   "cell_type": "code",
   "execution_count": 31,
   "id": "b305d2bd",
   "metadata": {},
   "outputs": [],
   "source": [
    "from langchain.prompts import PromptTemplate \n",
    "\n",
    "\n",
    "# Build prompt\n",
    "template = \"\"\"Use the following pieces of context to answer the question at the end. If you don't know the answer, just say that you don't know, don't try to make up an answer. Use three sentences maximum. Keep the answer as concise as possible. Always say \"thanks for going green!\" at the end of the answer. \n",
    "{context}\n",
    "Question: {question}\n",
    "Helpful Answer:\"\"\"\n",
    "\n",
    "QA_CHAIN_PROMPT = PromptTemplate.from_template(template)"
   ]
  },
  {
   "cell_type": "code",
   "execution_count": 32,
   "id": "621f7224",
   "metadata": {},
   "outputs": [],
   "source": [
    "# Run chain\n",
    "qa_chain = RetrievalQA.from_chain_type(\n",
    "    llm,\n",
    "    retriever=vectordb.as_retriever(),\n",
    "    return_source_documents=True,\n",
    "    chain_type_kwargs={\"prompt\": QA_CHAIN_PROMPT}\n",
    ")"
   ]
  },
  {
   "cell_type": "code",
   "execution_count": 33,
   "id": "213fca61",
   "metadata": {},
   "outputs": [],
   "source": [
    "question = \"Where do we see the biggest outflows?\"\n",
    "result = qa_chain({\"query\": question})"
   ]
  },
  {
   "cell_type": "code",
   "execution_count": 34,
   "id": "f77ec7b5",
   "metadata": {},
   "outputs": [
    {
     "data": {
      "text/plain": [
       "'Singapore and Hong Kong saw the biggest outflows of USD 157 million and USD 117 million, respectively, followed by India at USD 41 million in the Asia ex-Japan Sustainable Fund Flows exhibit. Thanks for going green!'"
      ]
     },
     "execution_count": 34,
     "metadata": {},
     "output_type": "execute_result"
    }
   ],
   "source": [
    "result[\"result\"]"
   ]
  },
  {
   "cell_type": "code",
   "execution_count": 35,
   "id": "58028348",
   "metadata": {},
   "outputs": [
    {
     "data": {
      "text/plain": [
       "'The global universe of sustainable funds saw net outflows of USD 29 billion in the first quarter of 2023, which was lower than the revised USD 37.7 billion of the last quarter of 2022. The Japanese sustainable fund market saw net outflows amounting to USD 961 million in the same period. Thanks for going green!'"
      ]
     },
     "execution_count": 35,
     "metadata": {},
     "output_type": "execute_result"
    }
   ],
   "source": [
    "question = \"What is the total outflow amount in Q1?\"\n",
    "result = qa_chain({\"query\": question})\n",
    "result[\"result\"]"
   ]
  },
  {
   "cell_type": "markdown",
   "id": "6ed7b0aa",
   "metadata": {},
   "source": [
    "### Adding chat history"
   ]
  },
  {
   "cell_type": "code",
   "execution_count": 37,
   "id": "18b75a21",
   "metadata": {},
   "outputs": [],
   "source": [
    "from langchain.memory import ConversationBufferMemory\n",
    "memory = ConversationBufferMemory(\n",
    "    memory_key=\"chat_history\",\n",
    "    return_messages=True\n",
    ")"
   ]
  },
  {
   "cell_type": "code",
   "execution_count": 38,
   "id": "21c3671c",
   "metadata": {},
   "outputs": [
    {
     "data": {
      "text/plain": [
       "'The global universe of sustainable funds saw net outflows of USD 29 billion in the first quarter of 2023, which was lower than the revised USD 37.7 billion of the last quarter of 2022. The Japanese sustainable fund market saw net outflows amounting to USD 961 million in the same period. Thanks for going green!'"
      ]
     },
     "execution_count": 38,
     "metadata": {},
     "output_type": "execute_result"
    }
   ],
   "source": [
    "question = \"What is the total outflow amount in Q1?\"\n",
    "result = qa_chain({\"query\": question})\n",
    "result[\"result\"]"
   ]
  },
  {
   "cell_type": "code",
   "execution_count": 40,
   "id": "14e5550b",
   "metadata": {},
   "outputs": [
    {
     "data": {
      "text/plain": [
       "'Yes, the outflows were driven by electric car manufacturers, and Singapore and Hong Kong saw the largest outflows followed by India. On the other hand, Taiwan experienced the largest net inflows while Malaysia saw the second-most net inflows. Thanks for going green!'"
      ]
     },
     "execution_count": 40,
     "metadata": {},
     "output_type": "execute_result"
    }
   ],
   "source": [
    "question = \"Can you provide a breakdown of these outflows?\"\n",
    "result = qa_chain({\"query\": question})\n",
    "result[\"result\"]"
   ]
  },
  {
   "cell_type": "code",
   "execution_count": 41,
   "id": "ca68af30",
   "metadata": {},
   "outputs": [
    {
     "data": {
      "text/plain": [
       "'No, there is no additional information provided on the previous answer. Thanks for going green!'"
      ]
     },
     "execution_count": 41,
     "metadata": {},
     "output_type": "execute_result"
    }
   ],
   "source": [
    "question = \"Do you have more figures on the previous answer?\"\n",
    "result = qa_chain({\"query\": question})\n",
    "result[\"result\"]"
   ]
  },
  {
   "cell_type": "code",
   "execution_count": null,
   "id": "016330f2",
   "metadata": {},
   "outputs": [],
   "source": []
  }
 ],
 "metadata": {
  "kernelspec": {
   "display_name": "Python 3 (ipykernel)",
   "language": "python",
   "name": "python3"
  },
  "language_info": {
   "codemirror_mode": {
    "name": "ipython",
    "version": 3
   },
   "file_extension": ".py",
   "mimetype": "text/x-python",
   "name": "python",
   "nbconvert_exporter": "python",
   "pygments_lexer": "ipython3",
   "version": "3.9.13"
  }
 },
 "nbformat": 4,
 "nbformat_minor": 5
}
